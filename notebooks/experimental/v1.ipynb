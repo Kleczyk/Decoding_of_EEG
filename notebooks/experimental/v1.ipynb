{
 "cells": [
  {
   "cell_type": "code",
   "execution_count": 2,
   "metadata": {},
   "source": [
    "import numpy as np\n",
    "import matplotlib.pyplot as plt\n",
    "import pyedflib \n",
    "import pandas as pd\n",
    "import mne\n",
    "import sys\n",
    "import eeg_lib as el"
   ],
   "outputs": []
  },
  {
   "cell_type": "code",
   "execution_count": 3,
   "metadata": {},
   "source": [
    "all_meseurments, all_targets = el.all_exp_to_array(4, [4])"
   ],
   "outputs": []
  },
  {
   "cell_type": "code",
   "execution_count": 4,
   "metadata": {},
   "source": [
    "print(type(all_meseurments))\n",
    "print(type(all_meseurments))\n",
    "print(all_meseurments.shape)\n",
    "print(all_targets.shape)\n",
    "\n",
    "\n"
   ],
   "outputs": []
  },
  {
   "cell_type": "code",
   "execution_count": 5,
   "metadata": {},
   "source": [
    "import torch\n",
    "import torch.nn as nn\n"
   ],
   "outputs": []
  },
  {
   "cell_type": "code",
   "execution_count": 6,
   "metadata": {},
   "source": [
    "class LSTM(nn.Module):\n",
    "    def __init__(self, input_size, hidden_size, num_layers, output_size):\n",
    "        super(LSTM, self).__init__()\n",
    "        self.hidden_size = hidden_size\n",
    "        self.num_layers = num_layers\n",
    "        self.lstm = nn.LSTM(input_size, hidden_size, num_layers, batch_first=True)\n",
    "        self.fc = nn.Linear(hidden_size, output_size)\n",
    "        self.sigmoid = nn.Sigmoid()\n",
    "\n",
    "    def forward(self, x):\n",
    "        h0 = torch.zeros(self.num_layers, x.size(0), self.hidden_size).to(x.device)\n",
    "        c0 = torch.zeros(self.num_layers, x.size(0), self.hidden_size).to(x.device)\n",
    "        out, _ = self.lstm(x, (h0, c0))\n",
    "        out = self.fc(out[:, -1, :])\n",
    "        out = self.sigmoid(out)\n",
    "        return out\n"
   ],
   "outputs": []
  },
  {
   "cell_type": "code",
   "execution_count": 7,
   "metadata": {},
   "source": [
    "one_probe= all_meseurments[0]\n",
    "one_probe_T= all_targets"
   ],
   "outputs": []
  },
  {
   "cell_type": "code",
   "execution_count": 8,
   "metadata": {},
   "source": [
    "one_probe[1]"
   ],
   "outputs": []
  },
  {
   "cell_type": "code",
   "execution_count": 9,
   "metadata": {},
   "source": [
    "x=[one_probe_T[0],one_probe[1000-640:1000]]\n",
    "\n"
   ],
   "outputs": []
  },
  {
   "cell_type": "code",
   "execution_count": null,
   "metadata": {},
   "source": [
    "\n"
   ],
   "outputs": []
  },
  {
   "cell_type": "code",
   "execution_count": 10,
   "metadata": {},
   "source": [
    "\n",
    "dataset = np.zeros((20000,640,64))\n",
    "conteiner= np.zeros((640,64))\n",
    "\n",
    "for i in range(0,len(one_probe)):\n",
    "    if i > 640:\n",
    "        dataset[i]= one_probe[i-640:i]\n",
    "\n"
   ],
   "outputs": []
  },
  {
   "cell_type": "code",
   "execution_count": 11,
   "metadata": {},
   "source": [
    "y_dataset= np.zeros((20000,640))\n",
    "for i in range(0,len(one_probe_T)):\n",
    "    if i > 640:\n",
    "        y_dataset[i]= one_probe_T[i-640:i]"
   ],
   "outputs": []
  },
  {
   "cell_type": "code",
   "execution_count": 12,
   "metadata": {},
   "source": [
    "from sklearn.model_selection import train_test_split\n",
    "import torch\n",
    "from torch.utils.data import random_split\n",
    "# Convert the data to PyTorch tensors\n",
    "X = torch.tensor(dataset)\n",
    "y = torch.tensor(y_dataset)\n",
    "\n",
    "# Define the train and test dataset sizes\n",
    "train_size = int(0.8 * len(X))\n",
    "test_size = len(X) - train_size\n",
    "\n",
    "# Split the data into train and test datasets\n",
    "train_dataset, test_dataset = random_split(list(zip(X, y)), [train_size, test_size])\n",
    "\n",
    "# Access the train and test data\n",
    "X_train, y_train = zip(*train_dataset)\n",
    "X_test, y_test = zip(*test_dataset)\n",
    "\n",
    "# Convert the data to PyTorch tensors\n",
    "X_train = torch.stack(X_train)\n",
    "X_test = torch.stack(X_test)\n",
    "y_train = torch.stack(y_train)\n",
    "y_test = torch.stack(y_test)\n",
    "\n",
    "\n",
    "print(\"Shape of X_train:\", X_train.shape)\n",
    "print(\"Shape of X_test:\", X_test.shape)\n",
    "print(\"Shape of y_train:\", y_train.shape)\n",
    "print(\"Shape of y_test:\", y_test.shape)\n"
   ],
   "outputs": []
  },
  {
   "cell_type": "code",
   "execution_count": 13,
   "metadata": {},
   "source": [
    "import torch\n",
    "\n",
    "if torch.cuda.is_available():\n",
    "    device = torch.device(\"cuda\")\n",
    "    print(\"GPU device is available\")\n",
    "else:\n",
    "    device = torch.device(\"cpu\")\n",
    "    print(\"GPU device is not available, using CPU\")\n"
   ],
   "outputs": []
  },
  {
   "cell_type": "code",
   "execution_count": 14,
   "metadata": {},
   "source": [
    "# Liczba elementów w tensorze\n",
    "num_elements = X_train.numel()\n",
    "\n",
    "# Rozmiar jednego elementu w bajtach (dla float32 to 4 bajty)\n",
    "element_size_bytes = X_train.element_size()\n",
    "\n",
    "# Całkowity rozmiar tensora w bajtach\n",
    "total_size_bytes = num_elements * element_size_bytes\n",
    "\n",
    "print(f\"Liczba elementów: {num_elements}\")\n",
    "print(f\"Rozmiar jednego elementu (bajty): {element_size_bytes}\")\n",
    "print(f\"Całkowity rozmiar tensora (bajty): {total_size_bytes}\")\n",
    "\n",
    "# Opcjonalnie, przeliczenie na kilobajty (KB)\n",
    "total_size_kb = total_size_bytes / 1024**2\n",
    "print(f\"Całkowity rozmiar tensora (MB): {total_size_kb}\")"
   ],
   "outputs": []
  },
  {
   "cell_type": "code",
   "execution_count": 16,
   "metadata": {},
   "source": [
    "tensor_float16 = X_train.to(torch.float16)\n",
    "# Liczba elementów w tensorze\n",
    "num_elements = X_train.numel()\n",
    "\n",
    "# Rozmiar jednego elementu w bajtach (dla float32 to 4 bajty)\n",
    "element_size_bytes = X_train.element_size()\n",
    "\n",
    "# Całkowity rozmiar tensora w bajtach\n",
    "total_size_bytes = num_elements * element_size_bytes\n",
    "\n",
    "print(f\"Liczba elementów: {num_elements}\")\n",
    "print(f\"Rozmiar jednego elementu (bajty): {element_size_bytes}\")\n",
    "print(f\"Całkowity rozmiar tensora (bajty): {total_size_bytes}\")\n",
    "\n",
    "# Opcjonalnie, przeliczenie na kilobajty (KB)\n",
    "total_size_kb = total_size_bytes / 1024**2\n",
    "print(f\"Całkowity rozmiar tensora (MB): {total_size_kb}\")"
   ],
   "outputs": []
  },
  {
   "cell_type": "code",
   "execution_count": null,
   "metadata": {},
   "source": [
    "torch.cuda.empty_cache()"
   ],
   "outputs": []
  },
  {
   "cell_type": "code",
   "execution_count": null,
   "metadata": {},
   "source": [
    "X_train = X_train.to(tensor_float8)\n",
    "y_train = y_train.to(tensor_float8)\n",
    "X_test = X_test.to(tensor_float8)\n",
    "y_test = y_test.to(tensor_float8)\n"
   ],
   "outputs": []
  },
  {
   "cell_type": "code",
   "execution_count": null,
   "metadata": {},
   "source": [
    "X_train = X_train.to(device)\n",
    "y_train = y_train.to(device)\n",
    "X_test = X_test.to(device)\n",
    "y_test = y_test.to(device)\n"
   ],
   "outputs": []
  },
  {
   "cell_type": "code",
   "execution_count": null,
   "metadata": {},
   "source": [
    "# Przygotowanie danych treningowych i testowych\n",
    "# X_train, y_train - dane treningowe\n",
    "# X_test, y_test - dane testowe\n",
    "\n",
    "X_train= all_meseurments[0][0]\n",
    "y_train\n",
    "\n",
    "# Inicjalizacja modelu\n",
    "model = LSTM(64, 64, 100,  1)\n",
    "\n",
    "# Definicja funkcji straty i optymalizatora\n",
    "criterion = nn.CrossEntropyLoss\n",
    "optimizer = torch.optim.Adam(model.parameters(), lr=0.01)\n",
    "\n",
    "# Pętla treningowa\n",
    "num_epochs = 10\n",
    "for epoch in range(num_epochs):\n",
    "    model.train()\n",
    "    optimizer.zero_grad()\n",
    "    outputs = model(X_train)\n",
    "    loss = criterion(outputs, y_train)\n",
    "    loss.backward()\n",
    "    optimizer.step()\n",
    "\n",
    "    # Ocena modelu na danych testowych\n",
    "    model.eval()\n",
    "    with torch.no_grad():\n",
    "        test_outputs = model(X_test)\n",
    "        test_loss = criterion(test_outputs, y_test)\n",
    "        predictions = (test_outputs > 0.5).float()\n",
    "        accuracy = (predictions == y_test).float().mean()\n",
    "\n",
    "    print(f'Epoch [{epoch+1}/{num_epochs}], Loss: {loss.item():.4f}, Test Loss: {test_loss.item():.4f}, Accuracy: {accuracy.item():.4f}')\n"
   ],
   "outputs": []
  }
 ],
 "metadata": {
  "kernelspec": {
   "display_name": "Python 3",
   "language": "python",
   "name": "python3"
  },
  "language_info": {
   "codemirror_mode": {
    "name": "ipython",
    "version": 3
   },
   "file_extension": ".py",
   "mimetype": "text/x-python",
   "name": "python",
   "nbconvert_exporter": "python",
   "pygments_lexer": "ipython3",
   "version": "3.10.13"
  }
 },
 "nbformat": 4,
 "nbformat_minor": 2
}
