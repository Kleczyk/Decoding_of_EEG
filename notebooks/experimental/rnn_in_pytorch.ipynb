{
 "cells": [
  {
   "cell_type": "markdown",
   "metadata": {},
   "source": [
    "# Import potrzebnych biblotek "
   ]
  },
  {
   "cell_type": "code",
   "source": [
    "import numpy as np\n",
    "import matplotlib.pyplot as plt\n",
    "import pyedflib \n",
    "import pandas as pd\n",
    "import mne\n"
   ],
   "metadata": {
    "collapsed": false,
    "jupyter": {
     "is_executing": true
    }
   },
   "execution_count": null,
   "outputs": []
  },
  {
   "cell_type": "markdown",
   "metadata": {},
   "source": [
    "# Ułożenie elektrod na głowie "
   ]
  },
  {
   "cell_type": "code",
   "execution_count": 37,
   "metadata": {
    "ExecuteTime": {
     "end_time": "2024-03-18T17:12:35.675754Z",
     "start_time": "2024-03-18T17:12:35.653701Z"
    }
   },
   "source": [
    "#show the 64 channel montage\n",
    "img = plt.imread('files/64_channel_sharbrough-old.png')\n",
    "plt.imshow(img)\n",
    "plt.axis('off')\n",
    "plt.show()\n"
   ],
   "outputs": []
  },
  {
   "cell_type": "markdown",
   "metadata": {},
   "source": [
    "# conversion data type form .edf to data frame"
   ]
  },
  {
   "cell_type": "code",
   "execution_count": 38,
   "metadata": {
    "ExecuteTime": {
     "end_time": "2024-03-18T17:12:35.740288Z",
     "start_time": "2024-03-18T17:12:35.727250Z"
    }
   },
   "source": [
    "subject = 1\n",
    "file = 5\n",
    "fileName = f\"files/S{subject:03d}/S{subject:03d}R{file:02d}.edf\"\n",
    "\n",
    "\n",
    "def file_to_DataDrame(path):\n",
    "    \"\"\"\n",
    "    This function takes in a file path and returns a dataframe with the data and the target values\n",
    "    format:\n",
    "        Fc5\t        Fc3\t        Fc1\t        ...\tOz\t        O2\t        Iz\t        target\n",
    "    0\t-0.000046\t-0.000041\t-0.000032\t...\t0.000040\t0.000108\t0.000055\tT0\n",
    "    1\t-0.000054\t-0.000048\t-0.000034\t...\t0.000064\t0.000114\t0.000074\tT0\n",
    "    ...\n",
    "    \"\"\"\n",
    "\n",
    "    reader = mne.io.read_raw_edf(path, preload=True)\n",
    "    annotations = reader.annotations  # get the values of the annotations\n",
    "    codes = annotations.description  # get the codes from the annotations\n",
    "\n",
    "    df = pd.DataFrame(\n",
    "        reader.get_data().T,\n",
    "        columns=[channel.replace(\".\", \"\") for channel in reader.ch_names],\n",
    "    )  # transpose the data to get the right shape\n",
    "    df = df[~(df == 0).all(axis=1)]  # remove rows with all zeros\n",
    "    timeArray = np.array(\n",
    "        [round(x, 10) for x in np.arange(0, len(df) / 160, 0.00625)]\n",
    "    )  # create an array of time values\n",
    "\n",
    "    codeArray = []\n",
    "    counter = 0\n",
    "    for timeVal in timeArray:\n",
    "        if (\n",
    "            timeVal in annotations.onset\n",
    "        ):  # if the time value is in the onset array, add the corresponding code to the codeArray\n",
    "            counter += 1\n",
    "        code_of_target = int(\n",
    "            codes[counter - 1].replace(\"T\", \"\")\n",
    "        )  # convert T0 to 0, T1 to 1, etc\n",
    "        codeArray.append(code_of_target)\n",
    "\n",
    "    df[\"target\"] = np.array(codeArray).T\n",
    "    return df"
   ],
   "outputs": []
  },
  {
   "cell_type": "code",
   "execution_count": 39,
   "metadata": {
    "ExecuteTime": {
     "end_time": "2024-03-18T17:12:35.845951Z",
     "start_time": "2024-03-18T17:12:35.805462Z"
    }
   },
   "source": [
    "df = file_to_DataDrame(fileName)"
   ],
   "outputs": []
  },
  {
   "cell_type": "code",
   "execution_count": 40,
   "metadata": {
    "ExecuteTime": {
     "end_time": "2024-03-18T17:12:35.942770Z",
     "start_time": "2024-03-18T17:12:35.919033Z"
    }
   },
   "source": [
    "df.head(2)\n"
   ],
   "outputs": []
  },
  {
   "cell_type": "code",
   "execution_count": 41,
   "metadata": {
    "ExecuteTime": {
     "end_time": "2024-03-18T17:12:36.008893Z",
     "start_time": "2024-03-18T17:12:35.983431Z"
    }
   },
   "source": [
    "df.tail(2)"
   ],
   "outputs": []
  },
  {
   "cell_type": "code",
   "execution_count": 42,
   "metadata": {
    "ExecuteTime": {
     "end_time": "2024-03-18T17:12:36.076703Z",
     "start_time": "2024-03-18T17:12:36.051938Z"
    }
   },
   "source": [
    "# check presiction data type\n",
    "print(f\"data presiction in df:\\t {df.iloc[0,0].dtype}\")\n",
    "a = df.iloc[1].values  # get the first row of the dataframe\n",
    "a = a[:-1]  # remove the target value\n",
    "a = a.astype(np.float64)  # convert the values to float\n",
    "print(f\"class type of a:\\t {type(np.array(a))}\")\n",
    "print(f\"schape of a:\\t\\t {a.shape}\")\n",
    "print(f\"data presiction in a:\\t {a.dtype}\")\n",
    "print(a)"
   ],
   "outputs": []
  },
  {
   "cell_type": "markdown",
   "metadata": {},
   "source": [
    "# Create a new dataframe with the selected ekperiment numbers"
   ]
  },
  {
   "cell_type": "code",
   "execution_count": 43,
   "metadata": {
    "ExecuteTime": {
     "end_time": "2024-03-18T17:12:36.150120Z",
     "start_time": "2024-03-18T17:12:36.117700Z"
    }
   },
   "source": [
    "#create a new dataframe with num of ecperiments 3,4,7,8,11,12\n",
    "choose_num_of_exp = [3,4,7,8,11,12]\n",
    "# person = renage (1,109)\n",
    "person = 1\n",
    "\n",
    "#conect all experiments to one dataframe np.array 6x20000x64x1 \n",
    "all_meseurments = np.zeros((len(choose_num_of_exp),20000,65))\n",
    "for i in range(6):\n",
    "    fileName = f\"files/S{person:03d}/S{person:03d}R{choose_num_of_exp[i]:02d}.edf\"\n",
    "    df = file_to_DataDrame(fileName)\n",
    "    for j in range(20000):\n",
    "        if j >= len(df):\n",
    "            all_meseurments[i][j] = np.zeros(65) \n",
    "        else:\n",
    "            all_meseurments[i][j] = df.iloc[j].values\n",
    "      \n",
    "          "
   ],
   "outputs": []
  },
  {
   "cell_type": "code",
   "execution_count": null,
   "metadata": {},
   "source": [
    "#create a new dataframe with num of ecperiments 3,4,7,8,11,12\n",
    "choose_num_of_exp = [3,4,7,8,11,12]\n",
    "# person = renage (1,109)\n",
    "person = 1\n",
    "array_measurement = np.zeros((64,1))\n",
    "all_measurements = np.zeros((len(choose_num_of_exp),64,1))\n",
    "for i in choose_num_of_exp:\n",
    "    fileName = f'files/S{person:03d}/S{person:03d}R{i:02d}.edf'\n",
    "    df = file_to_DataDrame(fileName)\n",
    "    array_measurement = np.array(df.iloc[i].values[:-1], dtype=np.float64) #get the first row of the dataframe and remove the target value and convert the values to np.array\n",
    "    array_target = np.array(df.iloc[i].values[-1])  #get the target value\n",
    "    array_measurement_target = np.append(array_measurement, [array_target], axis=0)\n",
    "    print(array_measurement_target.shape)\n",
    "\n",
    "person = 1\n",
    "all_measurements = []\n",
    "\n",
    "for i in choose_num_of_exp:\n",
    "    fileName = f'files/S{person:03d}/S{person:03d}R{i:02d}.edf'\n",
    "    df = file_to_DataDrame(fileName)\n",
    "    array_measurement = np.array(df.iloc[i].values[:-1], dtype=np.float64)\n",
    "    array_target = np.array(df.iloc[i].values[-1])\n",
    "    array_measurement_target = np.append(array_measurement, [array_target], axis=0)\n",
    "    print(array_measurement_target.shape)\n",
    "    all_measurements.append(array_measurement_target)\n",
    "\n",
    "# Convert list of numpy arrays back to numpy array\n",
    "# all_measurements = np.array(all_measurements), [array_measurement_target], axis=0)\n",
    "    \n",
    "    \n"
   ],
   "outputs": []
  },
  {
   "cell_type": "code",
   "execution_count": 44,
   "metadata": {
    "ExecuteTime": {
     "end_time": "2024-03-18T17:12:36.225494Z",
     "start_time": "2024-03-18T17:12:36.200788Z"
    }
   },
   "source": [
    "print(df['Fc5'][1])\n",
    "print(df.head(2))"
   ],
   "outputs": []
  },
  {
   "cell_type": "code",
   "execution_count": 45,
   "metadata": {
    "ExecuteTime": {
     "end_time": "2024-03-18T17:12:36.261535Z",
     "start_time": "2024-03-18T17:12:36.238190Z"
    }
   },
   "source": [
    "print(df.tail(2))"
   ],
   "outputs": []
  },
  {
   "cell_type": "code",
   "execution_count": 46,
   "metadata": {
    "ExecuteTime": {
     "end_time": "2024-03-18T17:12:36.306992Z",
     "start_time": "2024-03-18T17:12:36.278182Z"
    }
   },
   "source": [
    "# Start T0 or T1 or T2 \n",
    "def index_of_TX(df):\n",
    "    key = 0\n",
    "    dict_TX_index = {key: [df['target'][0], 0] }\n",
    "    current_TX = df['target'][0]\n",
    "    for i in range(len(df['target'])):\n",
    "        if df['target'][i] != current_TX:\n",
    "            key += 1\n",
    "            dict_TX_index[key] = [df['target'][i], i]\n",
    "            current_TX = df['target'][i]\n",
    " \n",
    "    return dict_TX_index\n",
    "   \n",
    "        \n",
    "print(index_of_TX(df))"
   ],
   "outputs": []
  },
  {
   "cell_type": "code",
   "execution_count": null,
   "metadata": {},
   "source": [
    "indexs = index_of_TX(df)\n",
    "xT0=[]\n",
    "xT1=[]\n",
    "xT2=[]\n",
    "ax= df.plot(y='Fc5')\n",
    "ax.set_xlabel(\"Time [s]\")\n",
    "for i in range(0,len(indexs)):\n",
    "    if indexs[i][0] == 0:\n",
    "        xT0.append(indexs[i][1])      \n",
    "    elif indexs[i][0] == 1:\n",
    "        xT1.append(indexs[i][1])\n",
    "    elif indexs[i][0] == 2:\n",
    "        xT2.append(indexs[i][1])\n",
    "#doter line\n",
    "ax.vlines(x=xT0, ymin=-0.0003, ymax=0.0003, color='r',label='T0',linestyles='dashed')\n",
    "ax.vlines(x=xT1, ymin=-0.0003, ymax=0.0003, color='b',label='T1',linestyles='dashed')\n",
    "ax.vlines(x=xT2, ymin=-0.0003, ymax=0.0003, color='y',label='T2', linestyles='dashed')\n",
    "ax.legend()\n",
    "\n"
   ],
   "outputs": []
  },
  {
   "cell_type": "markdown",
   "metadata": {},
   "source": [
    "# Normalization df"
   ]
  },
  {
   "cell_type": "code",
   "execution_count": 47,
   "metadata": {
    "ExecuteTime": {
     "end_time": "2024-03-18T17:12:36.332011Z",
     "start_time": "2024-03-18T17:12:36.324125Z"
    }
   },
   "source": [
    "#\n",
    "def normalize_data(df):\n",
    "    df = (df - df.min()) / (df.max() - df.min())\n",
    "    return df"
   ],
   "outputs": []
  },
  {
   "cell_type": "code",
   "execution_count": 48,
   "metadata": {
    "ExecuteTime": {
     "end_time": "2024-03-18T17:12:36.397888Z",
     "start_time": "2024-03-18T17:12:36.370864Z"
    }
   },
   "source": [
    "df = normalize_data(df)"
   ],
   "outputs": []
  },
  {
   "cell_type": "code",
   "execution_count": 49,
   "metadata": {
    "ExecuteTime": {
     "end_time": "2024-03-18T17:12:36.439799Z",
     "start_time": "2024-03-18T17:12:36.408784Z"
    }
   },
   "source": [
    "indexs = index_of_TX(df)\n",
    "xT0=[]\n",
    "xT1=[]\n",
    "xT2=[]\n",
    "ax= df.plot(y='Fc5')\n",
    "ax.set_xlabel(\"Time [s]\")\n",
    "for i in range(0,len(indexs)):\n",
    "    if indexs[i][0] == 0:\n",
    "        xT0.append(indexs[i][1])      \n",
    "    elif indexs[i][0] == 1:\n",
    "        xT1.append(indexs[i][1])\n",
    "    elif indexs[i][0] == 2:\n",
    "        xT2.append(indexs[i][1])\n",
    "#doter line\n",
    "#max value\n",
    "max_value = df['Fc5'].max()\n",
    "ax.vlines(x=xT0, ymin=-0, ymax=max_value, color='r',label='T0',linestyles='dashed')\n",
    "ax.vlines(x=xT1, ymin=-0, ymax=max_value, color='b',label='T1',linestyles='dashed')\n",
    "ax.vlines(x=xT2, ymin=-0, ymax=max_value, color='y',label='T2', linestyles='dashed')\n",
    "ax.legend()\n",
    "\n"
   ],
   "outputs": []
  },
  {
   "cell_type": "code",
   "execution_count": 50,
   "metadata": {
    "ExecuteTime": {
     "end_time": "2024-03-18T17:12:36.502124Z",
     "start_time": "2024-03-18T17:12:36.465836Z"
    }
   },
   "source": [
    "# Najpierw zainstaluj pyEDFlib, jeśli jeszcze tego nie zrobiłeś:\n",
    "# !pip install pyedflib\n",
    "\n",
    "\n",
    "\n",
    "# Zastąp 'path_to_edf_file.edf' ścieżką do Twojego pliku EDF\n",
    "file_path = '/home/daniel/repos/Decoding_of_EEG/files/S001/S001R05.edf'\n",
    "\n",
    "# Odczytanie pliku EDF\n",
    "with pyedflib.EdfReader(file_path) as f:\n",
    "    # Pobranie liczby sygnałów\n",
    "    n = f.signals_in_file\n",
    "\n",
    "    # Pobranie etykiet sygnałów\n",
    "    signal_labels = f.getSignalLabels()\n",
    "\n",
    "    signals = []\n",
    "    # Odczytanie i wyplotowanie każdego sygnału\n",
    "    for i in range(n):\n",
    "        signal = f.readSignal(i)\n",
    "        signals.append(signal)\n",
    "        plt.figure(figsize=(12, 4))\n",
    "        plt.plot(signal)\n",
    "        plt.title(signal_labels[i])\n",
    "        plt.show()\n",
    "        if i < 1:\n",
    "            break\n",
    "    \n",
    "    signals_array = np.array(signals)\n",
    "    \n",
    "\n"
   ],
   "outputs": []
  },
  {
   "cell_type": "code",
   "execution_count": null,
   "metadata": {},
   "source": [
    "print(signal_labels)\n",
    "signal= f.readSignal\n"
   ],
   "outputs": []
  },
  {
   "cell_type": "code",
   "execution_count": 51,
   "metadata": {
    "ExecuteTime": {
     "end_time": "2024-03-18T17:12:36.601036Z",
     "start_time": "2024-03-18T17:12:36.572914Z"
    }
   },
   "source": [
    "print(signals)"
   ],
   "outputs": []
  },
  {
   "cell_type": "code",
   "execution_count": null,
   "metadata": {
    "ExecuteTime": {
     "end_time": "2024-03-18T17:12:36.607489Z",
     "start_time": "2024-03-18T17:12:36.606810Z"
    }
   },
   "source": [
    "print(np.max(signals_array))\n",
    "print(np.min(signals_array))\n"
   ],
   "outputs": []
  }
 ],
 "metadata": {
  "kernelspec": {
   "display_name": "Python 3",
   "language": "python",
   "name": "python3"
  },
  "language_info": {
   "codemirror_mode": {
    "name": "ipython",
    "version": 3
   },
   "file_extension": ".py",
   "mimetype": "text/x-python",
   "name": "python",
   "nbconvert_exporter": "python",
   "pygments_lexer": "ipython3",
   "version": "3.10.13"
  }
 },
 "nbformat": 4,
 "nbformat_minor": 2
}
