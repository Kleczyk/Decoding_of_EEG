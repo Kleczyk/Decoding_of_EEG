{
 "cells": [
  {
   "cell_type": "markdown",
   "metadata": {},
   "source": [
    "# Begin\n",
    "## Import Libraries"
   ]
  },
  {
   "cell_type": "code",
   "execution_count": 1,
   "metadata": {},
   "source": [
    "import numpy as np\n",
    "import matplotlib.pyplot as plt\n",
    "import pyedflib \n",
    "import pandas as pd\n",
    "import mne"
   ],
   "outputs": []
  },
  {
   "metadata": {
    "ExecuteTime": {
     "end_time": "2024-09-15T09:02:04.857910Z",
     "start_time": "2024-09-15T09:02:00.167887Z"
    }
   },
   "cell_type": "code",
   "source": "!pip install --upgrade pip\n",
   "outputs": [
    {
     "name": "stdout",
     "output_type": "stream",
     "text": [
      "Requirement already satisfied: pip in /home/daniel/.cache/pypoetry/virtualenvs/decoding-of-eeg-dsQrZaNZ-py3.11/lib/python3.11/site-packages (24.0)\r\n",
      "Collecting pip\r\n",
      "  Downloading pip-24.2-py3-none-any.whl.metadata (3.6 kB)\r\n",
      "Downloading pip-24.2-py3-none-any.whl (1.8 MB)\r\n",
      "\u001B[2K   \u001B[38;2;114;156;31m━━━━━━━━━━━━━━━━━━━━━━━━━━━━━━━━━━━━━━━━\u001B[0m \u001B[32m1.8/1.8 MB\u001B[0m \u001B[31m8.9 MB/s\u001B[0m eta \u001B[36m0:00:00\u001B[0m[31m9.3 MB/s\u001B[0m eta \u001B[36m0:00:01\u001B[0m\r\n",
      "\u001B[?25hInstalling collected packages: pip\r\n",
      "  Attempting uninstall: pip\r\n",
      "    Found existing installation: pip 24.0\r\n",
      "    Uninstalling pip-24.0:\r\n",
      "      Successfully uninstalled pip-24.0\r\n",
      "Successfully installed pip-24.2\r\n"
     ]
    }
   ],
   "execution_count": 5
  },
  {
   "cell_type": "markdown",
   "metadata": {},
   "source": [
    "## Dowload data set "
   ]
  },
  {
   "cell_type": "code",
   "execution_count": 2,
   "metadata": {},
   "source": [
    "# !wget -r -N -c -np https://physionet.org/files/eegmmidb/1.0.0/"
   ],
   "outputs": []
  },
  {
   "cell_type": "markdown",
   "metadata": {},
   "source": [
    "## Positioning of electrodes on the head"
   ]
  },
  {
   "cell_type": "code",
   "execution_count": 3,
   "metadata": {},
   "source": [
    "img = plt.imread('files/64_channel_sharbrough-old.png')\n",
    "plt.imshow(img)\n",
    "plt.axis('off')\n",
    "plt.show()\n"
   ],
   "outputs": []
  },
  {
   "cell_type": "markdown",
   "metadata": {},
   "source": [
    "# Convert from file to data frame"
   ]
  },
  {
   "cell_type": "code",
   "execution_count": 4,
   "metadata": {},
   "source": [
    "def file_to_DataDrame(path):\n",
    "    \"\"\"\n",
    "    This function takes in a file path and returns a dataframe with the data and the target values\n",
    "    format:\n",
    "        Fc5\t        Fc3\t        Fc1\t        ...\tOz\t        O2\t        Iz\t        target\n",
    "    0\t-0.000046\t-0.000041\t-0.000032\t...\t0.000040\t0.000108\t0.000055\tT0\n",
    "    1\t-0.000054\t-0.000048\t-0.000034\t...\t0.000064\t0.000114\t0.000074\tT0\n",
    "    ...\n",
    "    \"\"\"\n",
    "\n",
    "    reader = mne.io.read_raw_edf(path, preload=True)\n",
    "    annotations = reader.annotations  # get the values of the annotations\n",
    "    codes = annotations.description  # get the codes from the annotations\n",
    "\n",
    "    df = pd.DataFrame(\n",
    "        reader.get_data().T,\n",
    "        columns=[channel.replace(\".\", \"\") for channel in reader.ch_names],\n",
    "    )  # transpose the data to get the right shape\n",
    "    df = df[~(df == 0).all(axis=1)]  # remove rows with all zeros\n",
    "    timeArray = np.array(\n",
    "        [round(x, 10) for x in np.arange(0, len(df) / 160, 0.00625)]\n",
    "    )  # create an array of time values\n",
    "\n",
    "    codeArray = []\n",
    "    counter = 0\n",
    "    for timeVal in timeArray:\n",
    "        if (\n",
    "            timeVal in annotations.onset\n",
    "        ):  # if the time value is in the onset array, add the corresponding code to the codeArray\n",
    "            counter += 1\n",
    "        code_of_target = int(\n",
    "            codes[counter - 1].replace(\"T\", \"\")\n",
    "        )  # convert T0 to 0, T1 to 1, etc\n",
    "        codeArray.append(code_of_target)\n",
    "\n",
    "    df[\"target\"] = np.array(codeArray).T\n",
    "    return df"
   ],
   "outputs": []
  },
  {
   "cell_type": "code",
   "execution_count": 5,
   "metadata": {},
   "source": [
    "subject = 1\n",
    "file = 5\n",
    "fileName = f\"files/S{subject:03d}/S{subject:03d}R{file:02d}.edf\"\n",
    "\n",
    "df = file_to_DataDrame(fileName)"
   ],
   "outputs": []
  },
  {
   "cell_type": "code",
   "execution_count": 6,
   "metadata": {},
   "source": [
    "df.head(2)"
   ],
   "outputs": []
  },
  {
   "cell_type": "code",
   "execution_count": 7,
   "metadata": {},
   "source": [
    "df.tail(2)"
   ],
   "outputs": []
  },
  {
   "cell_type": "code",
   "execution_count": 8,
   "metadata": {},
   "source": [
    "def index_of_TX(df):\n",
    "    key = 0\n",
    "    dict_TX_index = {key: [df['target'][0], 0] }\n",
    "    current_TX = df['target'][0]\n",
    "    for i in range(len(df['target'])):\n",
    "        if df['target'][i] != current_TX:\n",
    "            key += 1\n",
    "            dict_TX_index[key] = [df['target'][i], i]\n",
    "            current_TX = df['target'][i]\n",
    " \n",
    "    return dict_TX_index\n",
    "   \n",
    "        \n",
    "print(index_of_TX(df))"
   ],
   "outputs": []
  },
  {
   "cell_type": "code",
   "execution_count": 9,
   "metadata": {},
   "source": [
    "indexs = index_of_TX(df)\n",
    "xT0=[]\n",
    "xT1=[]\n",
    "xT2=[]\n",
    "ax= df.plot(y='Fc5')\n",
    "ax.set_xlabel(\"Number of samples\")\n",
    "for i in range(0,len(indexs)):\n",
    "    if indexs[i][0] == 0:\n",
    "        xT0.append(indexs[i][1])      \n",
    "    elif indexs[i][0] == 1:\n",
    "        xT1.append(indexs[i][1])\n",
    "    elif indexs[i][0] == 2:\n",
    "        xT2.append(indexs[i][1])\n",
    "#doter line\n",
    "ax.vlines(x=xT0, ymin=-0.0003, ymax=0.0003, color='r',label='T0',linestyles='dashed')\n",
    "ax.vlines(x=xT1, ymin=-0.0003, ymax=0.0003, color='b',label='T1',linestyles='dashed')\n",
    "ax.vlines(x=xT2, ymin=-0.0003, ymax=0.0003, color='y',label='T2', linestyles='dashed')\n",
    "ax.legend()\n",
    "\n"
   ],
   "outputs": []
  },
  {
   "cell_type": "markdown",
   "metadata": {},
   "source": [
    "# Colect data in one data set"
   ]
  },
  {
   "cell_type": "code",
   "execution_count": 10,
   "metadata": {},
   "source": [
    "def all_exp_to_array(num_person, choose_num_of_exp):\n",
    "    \"\"\"\n",
    "    num_person: int renage(1,109)\n",
    "    choose_num_of_exp: list of int[3,4,7,8,11,12]\n",
    "\n",
    "    return: all_meseurments, all_targets\n",
    "    \"\"\"\n",
    "   \n",
    "\n",
    "    all_meseurments = np.zeros((len(choose_num_of_exp),20000,64))\n",
    "    all_targets = np.zeros((len(choose_num_of_exp),20000))\n",
    "    for i in range(len(choose_num_of_exp)):\n",
    "        fileName = f\"files/S{num_person:03d}/S{num_person:03d}R{choose_num_of_exp[i]:02d}.edf\"\n",
    "        df = file_to_DataDrame(fileName)\n",
    "        for j in range(20000):\n",
    "            if j >= len(df):\n",
    "                all_meseurments[i][j] = np.zeros(64) \n",
    "                all_targets[i][j] = np.nan\n",
    "            else:\n",
    "                all_meseurments[i][j] = df.iloc[j].values[:-1]\n",
    "                all_targets[i][j] = df.iloc[j].values[-1]\n",
    "    return all_meseurments, all_targets\n",
    "                \n",
    "      \n",
    "          "
   ],
   "outputs": []
  },
  {
   "cell_type": "code",
   "execution_count": 11,
   "metadata": {},
   "source": [
    "def all_files_to_array(choose_num_of_exp):\n",
    "    \"\"\"\n",
    "    num_person: int \n",
    "    choose_num_of_exp: list of int [3,4,7,8,11,12]\n",
    "\n",
    "    return: all_meseurments, all_targets\n",
    "    \"\"\"\n",
    "    all_meseurments = np.zeros((109,len(choose_num_of_exp),20000,64))\n",
    "    all_targets = np.zeros((109,len(choose_num_of_exp),20000))\n",
    "    for i in range(1, 109):\n",
    "        all_meseurments[i], all_targets[i] = all_exp_to_array(i, choose_num_of_exp)\n",
    "    return all_meseurments, all_targets"
   ],
   "outputs": []
  },
  {
   "cell_type": "code",
   "execution_count": null,
   "metadata": {},
   "source": [
    "all_meseurments, all_targets = all_files_to_array([3,4,7,8,11,12])"
   ],
   "outputs": []
  },
  {
   "cell_type": "code",
   "execution_count": null,
   "metadata": {},
   "source": [],
   "outputs": []
  }
 ],
 "metadata": {
  "kernelspec": {
   "display_name": "Python 3",
   "language": "python",
   "name": "python3"
  },
  "language_info": {
   "codemirror_mode": {
    "name": "ipython",
    "version": 3
   },
   "file_extension": ".py",
   "mimetype": "text/x-python",
   "name": "python",
   "nbconvert_exporter": "python",
   "pygments_lexer": "ipython3",
   "version": "3.10.13"
  }
 },
 "nbformat": 4,
 "nbformat_minor": 2
}
