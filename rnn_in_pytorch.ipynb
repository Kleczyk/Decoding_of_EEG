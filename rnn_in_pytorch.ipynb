{
 "cells": [
  {
   "cell_type": "markdown",
   "metadata": {},
   "source": [
    "# Import potrzebnych biblotek "
   ]
  },
  {
   "cell_type": "code",
   "source": [
    "import numpy as np\n",
    "import matplotlib.pyplot as plt\n",
    "import pyedflib \n",
    "import pandas as pd\n",
    "import mne\n"
   ],
   "metadata": {
    "collapsed": false,
    "jupyter": {
     "is_executing": true
    }
   },
   "outputs": [],
   "execution_count": null
  },
  {
   "cell_type": "markdown",
   "metadata": {},
   "source": [
    "# Ułożenie elektrod na głowie "
   ]
  },
  {
   "cell_type": "code",
   "execution_count": 37,
   "metadata": {
    "ExecuteTime": {
     "end_time": "2024-03-18T17:12:35.675754Z",
     "start_time": "2024-03-18T17:12:35.653701Z"
    }
   },
   "outputs": [
    {
     "ename": "NameError",
     "evalue": "name 'plt' is not defined",
     "output_type": "error",
     "traceback": [
      "\u001B[0;31m---------------------------------------------------------------------------\u001B[0m",
      "\u001B[0;31mNameError\u001B[0m                                 Traceback (most recent call last)",
      "Cell \u001B[0;32mIn[37], line 2\u001B[0m\n\u001B[1;32m      1\u001B[0m \u001B[38;5;66;03m#show the 64 channel montage\u001B[39;00m\n\u001B[0;32m----> 2\u001B[0m img \u001B[38;5;241m=\u001B[39m \u001B[43mplt\u001B[49m\u001B[38;5;241m.\u001B[39mimread(\u001B[38;5;124m'\u001B[39m\u001B[38;5;124mfiles/64_channel_sharbrough-old.png\u001B[39m\u001B[38;5;124m'\u001B[39m)\n\u001B[1;32m      3\u001B[0m plt\u001B[38;5;241m.\u001B[39mimshow(img)\n\u001B[1;32m      4\u001B[0m plt\u001B[38;5;241m.\u001B[39maxis(\u001B[38;5;124m'\u001B[39m\u001B[38;5;124moff\u001B[39m\u001B[38;5;124m'\u001B[39m)\n",
      "\u001B[0;31mNameError\u001B[0m: name 'plt' is not defined"
     ]
    }
   ],
   "source": [
    "#show the 64 channel montage\n",
    "img = plt.imread('files/64_channel_sharbrough-old.png')\n",
    "plt.imshow(img)\n",
    "plt.axis('off')\n",
    "plt.show()\n"
   ]
  },
  {
   "cell_type": "markdown",
   "metadata": {},
   "source": [
    "# conversion data type form .edf to data frame"
   ]
  },
  {
   "cell_type": "code",
   "execution_count": 38,
   "metadata": {
    "ExecuteTime": {
     "end_time": "2024-03-18T17:12:35.740288Z",
     "start_time": "2024-03-18T17:12:35.727250Z"
    }
   },
   "outputs": [],
   "source": [
    "subject = 1\n",
    "file = 5\n",
    "fileName = f\"files/S{subject:03d}/S{subject:03d}R{file:02d}.edf\"\n",
    "\n",
    "\n",
    "def file_to_DataDrame(path):\n",
    "    \"\"\"\n",
    "    This function takes in a file path and returns a dataframe with the data and the target values\n",
    "    format:\n",
    "        Fc5\t        Fc3\t        Fc1\t        ...\tOz\t        O2\t        Iz\t        target\n",
    "    0\t-0.000046\t-0.000041\t-0.000032\t...\t0.000040\t0.000108\t0.000055\tT0\n",
    "    1\t-0.000054\t-0.000048\t-0.000034\t...\t0.000064\t0.000114\t0.000074\tT0\n",
    "    ...\n",
    "    \"\"\"\n",
    "\n",
    "    reader = mne.io.read_raw_edf(path, preload=True)\n",
    "    annotations = reader.annotations  # get the values of the annotations\n",
    "    codes = annotations.description  # get the codes from the annotations\n",
    "\n",
    "    df = pd.DataFrame(\n",
    "        reader.get_data().T,\n",
    "        columns=[channel.replace(\".\", \"\") for channel in reader.ch_names],\n",
    "    )  # transpose the data to get the right shape\n",
    "    df = df[~(df == 0).all(axis=1)]  # remove rows with all zeros\n",
    "    timeArray = np.array(\n",
    "        [round(x, 10) for x in np.arange(0, len(df) / 160, 0.00625)]\n",
    "    )  # create an array of time values\n",
    "\n",
    "    codeArray = []\n",
    "    counter = 0\n",
    "    for timeVal in timeArray:\n",
    "        if (\n",
    "            timeVal in annotations.onset\n",
    "        ):  # if the time value is in the onset array, add the corresponding code to the codeArray\n",
    "            counter += 1\n",
    "        code_of_target = int(\n",
    "            codes[counter - 1].replace(\"T\", \"\")\n",
    "        )  # convert T0 to 0, T1 to 1, etc\n",
    "        codeArray.append(code_of_target)\n",
    "\n",
    "    df[\"target\"] = np.array(codeArray).T\n",
    "    return df"
   ]
  },
  {
   "cell_type": "code",
   "execution_count": 39,
   "metadata": {
    "ExecuteTime": {
     "end_time": "2024-03-18T17:12:35.845951Z",
     "start_time": "2024-03-18T17:12:35.805462Z"
    }
   },
   "outputs": [
    {
     "ename": "NameError",
     "evalue": "name 'mne' is not defined",
     "output_type": "error",
     "traceback": [
      "\u001B[0;31m---------------------------------------------------------------------------\u001B[0m",
      "\u001B[0;31mNameError\u001B[0m                                 Traceback (most recent call last)",
      "Cell \u001B[0;32mIn[39], line 1\u001B[0m\n\u001B[0;32m----> 1\u001B[0m df \u001B[38;5;241m=\u001B[39m \u001B[43mfile_to_DataDrame\u001B[49m\u001B[43m(\u001B[49m\u001B[43mfileName\u001B[49m\u001B[43m)\u001B[49m\n",
      "Cell \u001B[0;32mIn[38], line 16\u001B[0m, in \u001B[0;36mfile_to_DataDrame\u001B[0;34m(path)\u001B[0m\n\u001B[1;32m      6\u001B[0m \u001B[38;5;28;01mdef\u001B[39;00m \u001B[38;5;21mfile_to_DataDrame\u001B[39m(path):\n\u001B[1;32m      7\u001B[0m \u001B[38;5;250m    \u001B[39m\u001B[38;5;124;03m\"\"\"\u001B[39;00m\n\u001B[1;32m      8\u001B[0m \u001B[38;5;124;03m    This function takes in a file path and returns a dataframe with the data and the target values\u001B[39;00m\n\u001B[1;32m      9\u001B[0m \u001B[38;5;124;03m    format:\u001B[39;00m\n\u001B[0;32m   (...)\u001B[0m\n\u001B[1;32m     13\u001B[0m \u001B[38;5;124;03m    ...\u001B[39;00m\n\u001B[1;32m     14\u001B[0m \u001B[38;5;124;03m    \"\"\"\u001B[39;00m\n\u001B[0;32m---> 16\u001B[0m     reader \u001B[38;5;241m=\u001B[39m \u001B[43mmne\u001B[49m\u001B[38;5;241m.\u001B[39mio\u001B[38;5;241m.\u001B[39mread_raw_edf(path, preload\u001B[38;5;241m=\u001B[39m\u001B[38;5;28;01mTrue\u001B[39;00m)\n\u001B[1;32m     17\u001B[0m     annotations \u001B[38;5;241m=\u001B[39m reader\u001B[38;5;241m.\u001B[39mannotations  \u001B[38;5;66;03m# get the values of the annotations\u001B[39;00m\n\u001B[1;32m     18\u001B[0m     codes \u001B[38;5;241m=\u001B[39m annotations\u001B[38;5;241m.\u001B[39mdescription  \u001B[38;5;66;03m# get the codes from the annotations\u001B[39;00m\n",
      "\u001B[0;31mNameError\u001B[0m: name 'mne' is not defined"
     ]
    }
   ],
   "source": [
    "df = file_to_DataDrame(fileName)"
   ]
  },
  {
   "cell_type": "code",
   "execution_count": 40,
   "metadata": {
    "ExecuteTime": {
     "end_time": "2024-03-18T17:12:35.942770Z",
     "start_time": "2024-03-18T17:12:35.919033Z"
    }
   },
   "outputs": [
    {
     "ename": "NameError",
     "evalue": "name 'df' is not defined",
     "output_type": "error",
     "traceback": [
      "\u001B[0;31m---------------------------------------------------------------------------\u001B[0m",
      "\u001B[0;31mNameError\u001B[0m                                 Traceback (most recent call last)",
      "Cell \u001B[0;32mIn[40], line 1\u001B[0m\n\u001B[0;32m----> 1\u001B[0m \u001B[43mdf\u001B[49m\u001B[38;5;241m.\u001B[39mhead(\u001B[38;5;241m2\u001B[39m)\n",
      "\u001B[0;31mNameError\u001B[0m: name 'df' is not defined"
     ]
    }
   ],
   "source": [
    "df.head(2)\n"
   ]
  },
  {
   "cell_type": "code",
   "execution_count": 41,
   "metadata": {
    "ExecuteTime": {
     "end_time": "2024-03-18T17:12:36.008893Z",
     "start_time": "2024-03-18T17:12:35.983431Z"
    }
   },
   "outputs": [
    {
     "ename": "NameError",
     "evalue": "name 'df' is not defined",
     "output_type": "error",
     "traceback": [
      "\u001B[0;31m---------------------------------------------------------------------------\u001B[0m",
      "\u001B[0;31mNameError\u001B[0m                                 Traceback (most recent call last)",
      "Cell \u001B[0;32mIn[41], line 1\u001B[0m\n\u001B[0;32m----> 1\u001B[0m \u001B[43mdf\u001B[49m\u001B[38;5;241m.\u001B[39mtail(\u001B[38;5;241m2\u001B[39m)\n",
      "\u001B[0;31mNameError\u001B[0m: name 'df' is not defined"
     ]
    }
   ],
   "source": [
    "df.tail(2)"
   ]
  },
  {
   "cell_type": "code",
   "execution_count": 42,
   "metadata": {
    "ExecuteTime": {
     "end_time": "2024-03-18T17:12:36.076703Z",
     "start_time": "2024-03-18T17:12:36.051938Z"
    }
   },
   "outputs": [
    {
     "ename": "NameError",
     "evalue": "name 'df' is not defined",
     "output_type": "error",
     "traceback": [
      "\u001B[0;31m---------------------------------------------------------------------------\u001B[0m",
      "\u001B[0;31mNameError\u001B[0m                                 Traceback (most recent call last)",
      "Cell \u001B[0;32mIn[42], line 2\u001B[0m\n\u001B[1;32m      1\u001B[0m \u001B[38;5;66;03m# check presiction data type\u001B[39;00m\n\u001B[0;32m----> 2\u001B[0m \u001B[38;5;28mprint\u001B[39m(\u001B[38;5;124mf\u001B[39m\u001B[38;5;124m\"\u001B[39m\u001B[38;5;124mdata presiction in df:\u001B[39m\u001B[38;5;130;01m\\t\u001B[39;00m\u001B[38;5;124m \u001B[39m\u001B[38;5;132;01m{\u001B[39;00m\u001B[43mdf\u001B[49m\u001B[38;5;241m.\u001B[39miloc[\u001B[38;5;241m0\u001B[39m,\u001B[38;5;241m0\u001B[39m]\u001B[38;5;241m.\u001B[39mdtype\u001B[38;5;132;01m}\u001B[39;00m\u001B[38;5;124m\"\u001B[39m)\n\u001B[1;32m      3\u001B[0m a \u001B[38;5;241m=\u001B[39m df\u001B[38;5;241m.\u001B[39miloc[\u001B[38;5;241m1\u001B[39m]\u001B[38;5;241m.\u001B[39mvalues  \u001B[38;5;66;03m# get the first row of the dataframe\u001B[39;00m\n\u001B[1;32m      4\u001B[0m a \u001B[38;5;241m=\u001B[39m a[:\u001B[38;5;241m-\u001B[39m\u001B[38;5;241m1\u001B[39m]  \u001B[38;5;66;03m# remove the target value\u001B[39;00m\n",
      "\u001B[0;31mNameError\u001B[0m: name 'df' is not defined"
     ]
    }
   ],
   "source": [
    "# check presiction data type\n",
    "print(f\"data presiction in df:\\t {df.iloc[0,0].dtype}\")\n",
    "a = df.iloc[1].values  # get the first row of the dataframe\n",
    "a = a[:-1]  # remove the target value\n",
    "a = a.astype(np.float64)  # convert the values to float\n",
    "print(f\"class type of a:\\t {type(np.array(a))}\")\n",
    "print(f\"schape of a:\\t\\t {a.shape}\")\n",
    "print(f\"data presiction in a:\\t {a.dtype}\")\n",
    "print(a)"
   ]
  },
  {
   "cell_type": "markdown",
   "metadata": {},
   "source": [
    "# Create a new dataframe with the selected ekperiment numbers"
   ]
  },
  {
   "cell_type": "code",
   "execution_count": 43,
   "metadata": {
    "ExecuteTime": {
     "end_time": "2024-03-18T17:12:36.150120Z",
     "start_time": "2024-03-18T17:12:36.117700Z"
    }
   },
   "outputs": [
    {
     "ename": "NameError",
     "evalue": "name 'np' is not defined",
     "output_type": "error",
     "traceback": [
      "\u001B[0;31m---------------------------------------------------------------------------\u001B[0m",
      "\u001B[0;31mNameError\u001B[0m                                 Traceback (most recent call last)",
      "Cell \u001B[0;32mIn[43], line 7\u001B[0m\n\u001B[1;32m      4\u001B[0m person \u001B[38;5;241m=\u001B[39m \u001B[38;5;241m1\u001B[39m\n\u001B[1;32m      6\u001B[0m \u001B[38;5;66;03m#conect all experiments to one dataframe np.array 6x20000x64x1 \u001B[39;00m\n\u001B[0;32m----> 7\u001B[0m all_meseurments \u001B[38;5;241m=\u001B[39m \u001B[43mnp\u001B[49m\u001B[38;5;241m.\u001B[39mzeros((\u001B[38;5;28mlen\u001B[39m(choose_num_of_exp),\u001B[38;5;241m20000\u001B[39m,\u001B[38;5;241m65\u001B[39m))\n\u001B[1;32m      8\u001B[0m \u001B[38;5;28;01mfor\u001B[39;00m i \u001B[38;5;129;01min\u001B[39;00m \u001B[38;5;28mrange\u001B[39m(\u001B[38;5;241m6\u001B[39m):\n\u001B[1;32m      9\u001B[0m     fileName \u001B[38;5;241m=\u001B[39m \u001B[38;5;124mf\u001B[39m\u001B[38;5;124m\"\u001B[39m\u001B[38;5;124mfiles/S\u001B[39m\u001B[38;5;132;01m{\u001B[39;00mperson\u001B[38;5;132;01m:\u001B[39;00m\u001B[38;5;124m03d\u001B[39m\u001B[38;5;132;01m}\u001B[39;00m\u001B[38;5;124m/S\u001B[39m\u001B[38;5;132;01m{\u001B[39;00mperson\u001B[38;5;132;01m:\u001B[39;00m\u001B[38;5;124m03d\u001B[39m\u001B[38;5;132;01m}\u001B[39;00m\u001B[38;5;124mR\u001B[39m\u001B[38;5;132;01m{\u001B[39;00mchoose_num_of_exp[i]\u001B[38;5;132;01m:\u001B[39;00m\u001B[38;5;124m02d\u001B[39m\u001B[38;5;132;01m}\u001B[39;00m\u001B[38;5;124m.edf\u001B[39m\u001B[38;5;124m\"\u001B[39m\n",
      "\u001B[0;31mNameError\u001B[0m: name 'np' is not defined"
     ]
    }
   ],
   "source": [
    "#create a new dataframe with num of ecperiments 3,4,7,8,11,12\n",
    "choose_num_of_exp = [3,4,7,8,11,12]\n",
    "# person = renage (1,109)\n",
    "person = 1\n",
    "\n",
    "#conect all experiments to one dataframe np.array 6x20000x64x1 \n",
    "all_meseurments = np.zeros((len(choose_num_of_exp),20000,65))\n",
    "for i in range(6):\n",
    "    fileName = f\"files/S{person:03d}/S{person:03d}R{choose_num_of_exp[i]:02d}.edf\"\n",
    "    df = file_to_DataDrame(fileName)\n",
    "    for j in range(20000):\n",
    "        if j >= len(df):\n",
    "            all_meseurments[i][j] = np.zeros(65) \n",
    "        else:\n",
    "            all_meseurments[i][j] = df.iloc[j].values\n",
    "      \n",
    "          "
   ]
  },
  {
   "cell_type": "code",
   "execution_count": null,
   "metadata": {},
   "outputs": [],
   "source": [
    "#create a new dataframe with num of ecperiments 3,4,7,8,11,12\n",
    "choose_num_of_exp = [3,4,7,8,11,12]\n",
    "# person = renage (1,109)\n",
    "person = 1\n",
    "array_measurement = np.zeros((64,1))\n",
    "all_measurements = np.zeros((len(choose_num_of_exp),64,1))\n",
    "for i in choose_num_of_exp:\n",
    "    fileName = f'files/S{person:03d}/S{person:03d}R{i:02d}.edf'\n",
    "    df = file_to_DataDrame(fileName)\n",
    "    array_measurement = np.array(df.iloc[i].values[:-1], dtype=np.float64) #get the first row of the dataframe and remove the target value and convert the values to np.array\n",
    "    array_target = np.array(df.iloc[i].values[-1])  #get the target value\n",
    "    array_measurement_target = np.append(array_measurement, [array_target], axis=0)\n",
    "    print(array_measurement_target.shape)\n",
    "\n",
    "person = 1\n",
    "all_measurements = []\n",
    "\n",
    "for i in choose_num_of_exp:\n",
    "    fileName = f'files/S{person:03d}/S{person:03d}R{i:02d}.edf'\n",
    "    df = file_to_DataDrame(fileName)\n",
    "    array_measurement = np.array(df.iloc[i].values[:-1], dtype=np.float64)\n",
    "    array_target = np.array(df.iloc[i].values[-1])\n",
    "    array_measurement_target = np.append(array_measurement, [array_target], axis=0)\n",
    "    print(array_measurement_target.shape)\n",
    "    all_measurements.append(array_measurement_target)\n",
    "\n",
    "# Convert list of numpy arrays back to numpy array\n",
    "# all_measurements = np.array(all_measurements), [array_measurement_target], axis=0)\n",
    "    \n",
    "    \n"
   ]
  },
  {
   "cell_type": "code",
   "execution_count": 44,
   "metadata": {
    "ExecuteTime": {
     "end_time": "2024-03-18T17:12:36.225494Z",
     "start_time": "2024-03-18T17:12:36.200788Z"
    }
   },
   "outputs": [
    {
     "ename": "NameError",
     "evalue": "name 'df' is not defined",
     "output_type": "error",
     "traceback": [
      "\u001B[0;31m---------------------------------------------------------------------------\u001B[0m",
      "\u001B[0;31mNameError\u001B[0m                                 Traceback (most recent call last)",
      "Cell \u001B[0;32mIn[44], line 1\u001B[0m\n\u001B[0;32m----> 1\u001B[0m \u001B[38;5;28mprint\u001B[39m(\u001B[43mdf\u001B[49m[\u001B[38;5;124m'\u001B[39m\u001B[38;5;124mFc5\u001B[39m\u001B[38;5;124m'\u001B[39m][\u001B[38;5;241m1\u001B[39m])\n\u001B[1;32m      2\u001B[0m \u001B[38;5;28mprint\u001B[39m(df\u001B[38;5;241m.\u001B[39mhead(\u001B[38;5;241m2\u001B[39m))\n",
      "\u001B[0;31mNameError\u001B[0m: name 'df' is not defined"
     ]
    }
   ],
   "source": [
    "print(df['Fc5'][1])\n",
    "print(df.head(2))"
   ]
  },
  {
   "cell_type": "code",
   "execution_count": 45,
   "metadata": {
    "ExecuteTime": {
     "end_time": "2024-03-18T17:12:36.261535Z",
     "start_time": "2024-03-18T17:12:36.238190Z"
    }
   },
   "outputs": [
    {
     "ename": "NameError",
     "evalue": "name 'df' is not defined",
     "output_type": "error",
     "traceback": [
      "\u001B[0;31m---------------------------------------------------------------------------\u001B[0m",
      "\u001B[0;31mNameError\u001B[0m                                 Traceback (most recent call last)",
      "Cell \u001B[0;32mIn[45], line 1\u001B[0m\n\u001B[0;32m----> 1\u001B[0m \u001B[38;5;28mprint\u001B[39m(\u001B[43mdf\u001B[49m\u001B[38;5;241m.\u001B[39mtail(\u001B[38;5;241m2\u001B[39m))\n",
      "\u001B[0;31mNameError\u001B[0m: name 'df' is not defined"
     ]
    }
   ],
   "source": [
    "print(df.tail(2))"
   ]
  },
  {
   "cell_type": "code",
   "execution_count": 46,
   "metadata": {
    "ExecuteTime": {
     "end_time": "2024-03-18T17:12:36.306992Z",
     "start_time": "2024-03-18T17:12:36.278182Z"
    }
   },
   "outputs": [
    {
     "ename": "NameError",
     "evalue": "name 'df' is not defined",
     "output_type": "error",
     "traceback": [
      "\u001B[0;31m---------------------------------------------------------------------------\u001B[0m",
      "\u001B[0;31mNameError\u001B[0m                                 Traceback (most recent call last)",
      "Cell \u001B[0;32mIn[46], line 15\u001B[0m\n\u001B[1;32m     10\u001B[0m             current_TX \u001B[38;5;241m=\u001B[39m df[\u001B[38;5;124m'\u001B[39m\u001B[38;5;124mtarget\u001B[39m\u001B[38;5;124m'\u001B[39m][i]\n\u001B[1;32m     12\u001B[0m     \u001B[38;5;28;01mreturn\u001B[39;00m dict_TX_index\n\u001B[0;32m---> 15\u001B[0m \u001B[38;5;28mprint\u001B[39m(index_of_TX(\u001B[43mdf\u001B[49m))\n",
      "\u001B[0;31mNameError\u001B[0m: name 'df' is not defined"
     ]
    }
   ],
   "source": [
    "# Start T0 or T1 or T2 \n",
    "def index_of_TX(df):\n",
    "    key = 0\n",
    "    dict_TX_index = {key: [df['target'][0], 0] }\n",
    "    current_TX = df['target'][0]\n",
    "    for i in range(len(df['target'])):\n",
    "        if df['target'][i] != current_TX:\n",
    "            key += 1\n",
    "            dict_TX_index[key] = [df['target'][i], i]\n",
    "            current_TX = df['target'][i]\n",
    " \n",
    "    return dict_TX_index\n",
    "   \n",
    "        \n",
    "print(index_of_TX(df))"
   ]
  },
  {
   "cell_type": "code",
   "execution_count": null,
   "metadata": {},
   "outputs": [],
   "source": [
    "indexs = index_of_TX(df)\n",
    "xT0=[]\n",
    "xT1=[]\n",
    "xT2=[]\n",
    "ax= df.plot(y='Fc5')\n",
    "ax.set_xlabel(\"Time [s]\")\n",
    "for i in range(0,len(indexs)):\n",
    "    if indexs[i][0] == 0:\n",
    "        xT0.append(indexs[i][1])      \n",
    "    elif indexs[i][0] == 1:\n",
    "        xT1.append(indexs[i][1])\n",
    "    elif indexs[i][0] == 2:\n",
    "        xT2.append(indexs[i][1])\n",
    "#doter line\n",
    "ax.vlines(x=xT0, ymin=-0.0003, ymax=0.0003, color='r',label='T0',linestyles='dashed')\n",
    "ax.vlines(x=xT1, ymin=-0.0003, ymax=0.0003, color='b',label='T1',linestyles='dashed')\n",
    "ax.vlines(x=xT2, ymin=-0.0003, ymax=0.0003, color='y',label='T2', linestyles='dashed')\n",
    "ax.legend()\n",
    "\n"
   ]
  },
  {
   "cell_type": "markdown",
   "metadata": {},
   "source": [
    "# Normalization df"
   ]
  },
  {
   "cell_type": "code",
   "execution_count": 47,
   "metadata": {
    "ExecuteTime": {
     "end_time": "2024-03-18T17:12:36.332011Z",
     "start_time": "2024-03-18T17:12:36.324125Z"
    }
   },
   "outputs": [],
   "source": [
    "#\n",
    "def normalize_data(df):\n",
    "    df = (df - df.min()) / (df.max() - df.min())\n",
    "    return df"
   ]
  },
  {
   "cell_type": "code",
   "execution_count": 48,
   "metadata": {
    "ExecuteTime": {
     "end_time": "2024-03-18T17:12:36.397888Z",
     "start_time": "2024-03-18T17:12:36.370864Z"
    }
   },
   "outputs": [
    {
     "ename": "NameError",
     "evalue": "name 'df' is not defined",
     "output_type": "error",
     "traceback": [
      "\u001B[0;31m---------------------------------------------------------------------------\u001B[0m",
      "\u001B[0;31mNameError\u001B[0m                                 Traceback (most recent call last)",
      "Cell \u001B[0;32mIn[48], line 1\u001B[0m\n\u001B[0;32m----> 1\u001B[0m df \u001B[38;5;241m=\u001B[39m normalize_data(\u001B[43mdf\u001B[49m)\n",
      "\u001B[0;31mNameError\u001B[0m: name 'df' is not defined"
     ]
    }
   ],
   "source": [
    "df = normalize_data(df)"
   ]
  },
  {
   "cell_type": "code",
   "execution_count": 49,
   "metadata": {
    "ExecuteTime": {
     "end_time": "2024-03-18T17:12:36.439799Z",
     "start_time": "2024-03-18T17:12:36.408784Z"
    }
   },
   "outputs": [
    {
     "ename": "NameError",
     "evalue": "name 'df' is not defined",
     "output_type": "error",
     "traceback": [
      "\u001B[0;31m---------------------------------------------------------------------------\u001B[0m",
      "\u001B[0;31mNameError\u001B[0m                                 Traceback (most recent call last)",
      "Cell \u001B[0;32mIn[49], line 1\u001B[0m\n\u001B[0;32m----> 1\u001B[0m indexs \u001B[38;5;241m=\u001B[39m index_of_TX(\u001B[43mdf\u001B[49m)\n\u001B[1;32m      2\u001B[0m xT0\u001B[38;5;241m=\u001B[39m[]\n\u001B[1;32m      3\u001B[0m xT1\u001B[38;5;241m=\u001B[39m[]\n",
      "\u001B[0;31mNameError\u001B[0m: name 'df' is not defined"
     ]
    }
   ],
   "source": [
    "indexs = index_of_TX(df)\n",
    "xT0=[]\n",
    "xT1=[]\n",
    "xT2=[]\n",
    "ax= df.plot(y='Fc5')\n",
    "ax.set_xlabel(\"Time [s]\")\n",
    "for i in range(0,len(indexs)):\n",
    "    if indexs[i][0] == 0:\n",
    "        xT0.append(indexs[i][1])      \n",
    "    elif indexs[i][0] == 1:\n",
    "        xT1.append(indexs[i][1])\n",
    "    elif indexs[i][0] == 2:\n",
    "        xT2.append(indexs[i][1])\n",
    "#doter line\n",
    "#max value\n",
    "max_value = df['Fc5'].max()\n",
    "ax.vlines(x=xT0, ymin=-0, ymax=max_value, color='r',label='T0',linestyles='dashed')\n",
    "ax.vlines(x=xT1, ymin=-0, ymax=max_value, color='b',label='T1',linestyles='dashed')\n",
    "ax.vlines(x=xT2, ymin=-0, ymax=max_value, color='y',label='T2', linestyles='dashed')\n",
    "ax.legend()\n",
    "\n"
   ]
  },
  {
   "cell_type": "code",
   "execution_count": 50,
   "metadata": {
    "ExecuteTime": {
     "end_time": "2024-03-18T17:12:36.502124Z",
     "start_time": "2024-03-18T17:12:36.465836Z"
    }
   },
   "outputs": [
    {
     "ename": "NameError",
     "evalue": "name 'pyedflib' is not defined",
     "output_type": "error",
     "traceback": [
      "\u001B[0;31m---------------------------------------------------------------------------\u001B[0m",
      "\u001B[0;31mNameError\u001B[0m                                 Traceback (most recent call last)",
      "Cell \u001B[0;32mIn[50], line 10\u001B[0m\n\u001B[1;32m      7\u001B[0m file_path \u001B[38;5;241m=\u001B[39m \u001B[38;5;124m'\u001B[39m\u001B[38;5;124m/home/daniel/repos/Decoding_of_EEG/files/S001/S001R05.edf\u001B[39m\u001B[38;5;124m'\u001B[39m\n\u001B[1;32m      9\u001B[0m \u001B[38;5;66;03m# Odczytanie pliku EDF\u001B[39;00m\n\u001B[0;32m---> 10\u001B[0m \u001B[38;5;28;01mwith\u001B[39;00m \u001B[43mpyedflib\u001B[49m\u001B[38;5;241m.\u001B[39mEdfReader(file_path) \u001B[38;5;28;01mas\u001B[39;00m f:\n\u001B[1;32m     11\u001B[0m     \u001B[38;5;66;03m# Pobranie liczby sygnałów\u001B[39;00m\n\u001B[1;32m     12\u001B[0m     n \u001B[38;5;241m=\u001B[39m f\u001B[38;5;241m.\u001B[39msignals_in_file\n\u001B[1;32m     14\u001B[0m     \u001B[38;5;66;03m# Pobranie etykiet sygnałów\u001B[39;00m\n",
      "\u001B[0;31mNameError\u001B[0m: name 'pyedflib' is not defined"
     ]
    }
   ],
   "source": [
    "# Najpierw zainstaluj pyEDFlib, jeśli jeszcze tego nie zrobiłeś:\n",
    "# !pip install pyedflib\n",
    "\n",
    "\n",
    "\n",
    "# Zastąp 'path_to_edf_file.edf' ścieżką do Twojego pliku EDF\n",
    "file_path = '/home/daniel/repos/Decoding_of_EEG/files/S001/S001R05.edf'\n",
    "\n",
    "# Odczytanie pliku EDF\n",
    "with pyedflib.EdfReader(file_path) as f:\n",
    "    # Pobranie liczby sygnałów\n",
    "    n = f.signals_in_file\n",
    "\n",
    "    # Pobranie etykiet sygnałów\n",
    "    signal_labels = f.getSignalLabels()\n",
    "\n",
    "    signals = []\n",
    "    # Odczytanie i wyplotowanie każdego sygnału\n",
    "    for i in range(n):\n",
    "        signal = f.readSignal(i)\n",
    "        signals.append(signal)\n",
    "        plt.figure(figsize=(12, 4))\n",
    "        plt.plot(signal)\n",
    "        plt.title(signal_labels[i])\n",
    "        plt.show()\n",
    "        if i < 1:\n",
    "            break\n",
    "    \n",
    "    signals_array = np.array(signals)\n",
    "    \n",
    "\n"
   ]
  },
  {
   "cell_type": "code",
   "execution_count": null,
   "metadata": {},
   "outputs": [],
   "source": [
    "print(signal_labels)\n",
    "signal= f.readSignal\n"
   ]
  },
  {
   "cell_type": "code",
   "execution_count": 51,
   "metadata": {
    "ExecuteTime": {
     "end_time": "2024-03-18T17:12:36.601036Z",
     "start_time": "2024-03-18T17:12:36.572914Z"
    }
   },
   "outputs": [
    {
     "ename": "NameError",
     "evalue": "name 'signals' is not defined",
     "output_type": "error",
     "traceback": [
      "\u001B[0;31m---------------------------------------------------------------------------\u001B[0m",
      "\u001B[0;31mNameError\u001B[0m                                 Traceback (most recent call last)",
      "Cell \u001B[0;32mIn[51], line 1\u001B[0m\n\u001B[0;32m----> 1\u001B[0m \u001B[38;5;28mprint\u001B[39m(\u001B[43msignals\u001B[49m)\n",
      "\u001B[0;31mNameError\u001B[0m: name 'signals' is not defined"
     ]
    }
   ],
   "source": [
    "print(signals)"
   ]
  },
  {
   "cell_type": "code",
   "execution_count": null,
   "metadata": {
    "ExecuteTime": {
     "end_time": "2024-03-18T17:12:36.607489Z",
     "start_time": "2024-03-18T17:12:36.606810Z"
    }
   },
   "outputs": [],
   "source": [
    "print(np.max(signals_array))\n",
    "print(np.min(signals_array))\n"
   ]
  }
 ],
 "metadata": {
  "kernelspec": {
   "display_name": "Python 3",
   "language": "python",
   "name": "python3"
  },
  "language_info": {
   "codemirror_mode": {
    "name": "ipython",
    "version": 3
   },
   "file_extension": ".py",
   "mimetype": "text/x-python",
   "name": "python",
   "nbconvert_exporter": "python",
   "pygments_lexer": "ipython3",
   "version": "3.10.13"
  }
 },
 "nbformat": 4,
 "nbformat_minor": 2
}
